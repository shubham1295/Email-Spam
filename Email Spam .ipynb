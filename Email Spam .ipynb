{
 "cells": [
  {
   "cell_type": "code",
   "execution_count": 1,
   "metadata": {
    "collapsed": true
   },
   "outputs": [],
   "source": [
    "import os\n",
    "import io\n",
    "import numpy\n",
    "from pandas import DataFrame\n",
    "from sklearn.feature_extraction.text import CountVectorizer\n",
    "from sklearn.naive_bayes import MultinomialNB\n",
    "\n",
    "# Reads text after Header\n",
    "def readFiles(path):\n",
    "    for root,dirnames, filenames in os.walk(path):\n",
    "        for filename in filenames:\n",
    "            path = os.path.join(root,filename)            \n",
    "            inBody = False\n",
    "            lines = []\n",
    "            f = io.open(path, 'r', encoding='latin1')\n",
    "            for line in f:\n",
    "                if inBody:\n",
    "                    lines.append(line)\n",
    "                elif line == '\\n':\n",
    "                    inBody = True\n",
    "            f.close()\n",
    "            message = '\\n'.join(lines)\n",
    "            yield path, message\n",
    "\n",
    "            \n",
    "def dataFramefromDict(path, classification):\n",
    "    rows= []\n",
    "    index = []\n",
    "    for filename, message in  readFiles(path):\n",
    "        rows.append({'Message': message, 'Class': classification})\n",
    "        index.append(filename)\n",
    "            \n",
    "    return DataFrame(rows, index=index)\n",
    "data = DataFrame({'Message':[],'Class':[]})\n",
    "\n",
    "#Change path accordingly\n",
    "data = data.append(dataFramefromDict('/home/sunbeam/JNoteBook/emails/spam','Spam'))\n",
    "data = data.append(dataFramefromDict('/home/sunbeam/JNoteBook/emails/ham','Ham'))"
   ]
  },
  {
   "cell_type": "code",
   "execution_count": 2,
   "metadata": {},
   "outputs": [
    {
     "data": {
      "text/html": [
       "<div>\n",
       "<style>\n",
       "    .dataframe thead tr:only-child th {\n",
       "        text-align: right;\n",
       "    }\n",
       "\n",
       "    .dataframe thead th {\n",
       "        text-align: left;\n",
       "    }\n",
       "\n",
       "    .dataframe tbody tr th {\n",
       "        vertical-align: top;\n",
       "    }\n",
       "</style>\n",
       "<table border=\"1\" class=\"dataframe\">\n",
       "  <thead>\n",
       "    <tr style=\"text-align: right;\">\n",
       "      <th></th>\n",
       "      <th>Class</th>\n",
       "      <th>Message</th>\n",
       "    </tr>\n",
       "  </thead>\n",
       "  <tbody>\n",
       "    <tr>\n",
       "      <th>/home/sunbeam/JNoteBook/emails/spam/00355.e10c2eba9316a09e612e6675ce339d5e</th>\n",
       "      <td>Spam</td>\n",
       "      <td>&lt;html&gt;&lt;body onload=\"window.open('http://202.10...</td>\n",
       "    </tr>\n",
       "    <tr>\n",
       "      <th>/home/sunbeam/JNoteBook/emails/spam/00362.be7a346be8746732d4dc27bc549d7441</th>\n",
       "      <td>Spam</td>\n",
       "      <td>WERKEN BIJ DE LOTTO,\\n\\n41132, NL-1007 DB AMST...</td>\n",
       "    </tr>\n",
       "    <tr>\n",
       "      <th>/home/sunbeam/JNoteBook/emails/spam/00003.2ee33bc6eacdb11f38d052c44819ba6c</th>\n",
       "      <td>Spam</td>\n",
       "      <td>1) Fight The Risk of Cancer!\\n\\nhttp://www.adc...</td>\n",
       "    </tr>\n",
       "    <tr>\n",
       "      <th>/home/sunbeam/JNoteBook/emails/spam/00002.d94f1b97e48ed3b553b3508d116e6a09</th>\n",
       "      <td>Spam</td>\n",
       "      <td>1) Fight The Risk of Cancer!\\n\\nhttp://www.adc...</td>\n",
       "    </tr>\n",
       "    <tr>\n",
       "      <th>/home/sunbeam/JNoteBook/emails/spam/00250.32279787338af8a5de4cfbc0b837718e</th>\n",
       "      <td>Spam</td>\n",
       "      <td>It was the Spring of 1979.  \\n\\n\\n\\nI was just...</td>\n",
       "    </tr>\n",
       "  </tbody>\n",
       "</table>\n",
       "</div>"
      ],
      "text/plain": [
       "                                                   Class  \\\n",
       "/home/sunbeam/JNoteBook/emails/spam/00355.e10c2...  Spam   \n",
       "/home/sunbeam/JNoteBook/emails/spam/00362.be7a3...  Spam   \n",
       "/home/sunbeam/JNoteBook/emails/spam/00003.2ee33...  Spam   \n",
       "/home/sunbeam/JNoteBook/emails/spam/00002.d94f1...  Spam   \n",
       "/home/sunbeam/JNoteBook/emails/spam/00250.32279...  Spam   \n",
       "\n",
       "                                                                                              Message  \n",
       "/home/sunbeam/JNoteBook/emails/spam/00355.e10c2...  <html><body onload=\"window.open('http://202.10...  \n",
       "/home/sunbeam/JNoteBook/emails/spam/00362.be7a3...  WERKEN BIJ DE LOTTO,\\n\\n41132, NL-1007 DB AMST...  \n",
       "/home/sunbeam/JNoteBook/emails/spam/00003.2ee33...  1) Fight The Risk of Cancer!\\n\\nhttp://www.adc...  \n",
       "/home/sunbeam/JNoteBook/emails/spam/00002.d94f1...  1) Fight The Risk of Cancer!\\n\\nhttp://www.adc...  \n",
       "/home/sunbeam/JNoteBook/emails/spam/00250.32279...  It was the Spring of 1979.  \\n\\n\\n\\nI was just...  "
      ]
     },
     "execution_count": 2,
     "metadata": {},
     "output_type": "execute_result"
    }
   ],
   "source": [
    "data.head()"
   ]
  },
  {
   "cell_type": "code",
   "execution_count": 3,
   "metadata": {
    "collapsed": true
   },
   "outputs": [],
   "source": [
    "#Convert a collection of text documents to a matrix of token counts\n",
    "vectorizer = CountVectorizer()\n",
    "counts = vectorizer.fit_transform(data['Message'].values)"
   ]
  },
  {
   "cell_type": "code",
   "execution_count": 4,
   "metadata": {},
   "outputs": [
    {
     "data": {
      "text/plain": [
       "MultinomialNB(alpha=1.0, class_prior=None, fit_prior=True)"
      ]
     },
     "execution_count": 4,
     "metadata": {},
     "output_type": "execute_result"
    }
   ],
   "source": [
    "classifier = MultinomialNB()\n",
    "target = data['Class'].values\n",
    "classifier.fit(counts, target)"
   ]
  },
  {
   "cell_type": "code",
   "execution_count": 5,
   "metadata": {},
   "outputs": [
    {
     "data": {
      "text/plain": [
       "array(['Spam'],\n",
       "      dtype='<U4')"
      ]
     },
     "execution_count": 5,
     "metadata": {},
     "output_type": "execute_result"
    }
   ],
   "source": [
    "#PREDECTIONS after this\n",
    "\n",
    "def dataFramefromTest(path):\n",
    "    rows= []\n",
    "    index = []\n",
    "    for filename, message in  readFiles(path):\n",
    "        rows.append({'Message': message})\n",
    "        index.append(filename)\n",
    "            \n",
    "    return DataFrame(rows)\n",
    "example = DataFrame({'Message': []})\n",
    "example = example.append(dataFramefromTest('/home/sunbeam/JNoteBook/emails/Test')) #Change path accordingly \n",
    "\n",
    "example_count = vectorizer.transform(example['Message'].values)\n",
    "\n",
    "predictions = classifier.predict(example_count)\n",
    "predictions\n"
   ]
  },
  {
   "cell_type": "code",
   "execution_count": null,
   "metadata": {
    "collapsed": true
   },
   "outputs": [],
   "source": []
  }
 ],
 "metadata": {
  "kernelspec": {
   "display_name": "Python 3",
   "language": "python",
   "name": "python3"
  },
  "language_info": {
   "codemirror_mode": {
    "name": "ipython",
    "version": 3
   },
   "file_extension": ".py",
   "mimetype": "text/x-python",
   "name": "python",
   "nbconvert_exporter": "python",
   "pygments_lexer": "ipython3",
   "version": "3.6.3"
  }
 },
 "nbformat": 4,
 "nbformat_minor": 2
}
